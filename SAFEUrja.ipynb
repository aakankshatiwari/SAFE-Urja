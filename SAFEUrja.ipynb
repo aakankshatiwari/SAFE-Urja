{
  "nbformat": 4,
  "nbformat_minor": 0,
  "metadata": {
    "colab": {
      "provenance": []
    },
    "kernelspec": {
      "name": "python3",
      "display_name": "Python 3"
    },
    "language_info": {
      "name": "python"
    }
  },
  "cells": [
    {
      "cell_type": "code",
      "execution_count": 1,
      "metadata": {
        "colab": {
          "base_uri": "https://localhost:8080/",
          "height": 383
        },
        "id": "f0as0OqrHrf-",
        "outputId": "40981add-0a2c-4bae-b6de-479cf9788af8"
      },
      "outputs": [
        {
          "output_type": "error",
          "ename": "ModuleNotFoundError",
          "evalue": "No module named 'streamlit'",
          "traceback": [
            "\u001b[0;31m---------------------------------------------------------------------------\u001b[0m",
            "\u001b[0;31mModuleNotFoundError\u001b[0m                       Traceback (most recent call last)",
            "\u001b[0;32m/tmp/ipython-input-432821271.py\u001b[0m in \u001b[0;36m<cell line: 0>\u001b[0;34m()\u001b[0m\n\u001b[0;32m----> 1\u001b[0;31m \u001b[0;32mimport\u001b[0m \u001b[0mstreamlit\u001b[0m \u001b[0;32mas\u001b[0m \u001b[0mst\u001b[0m\u001b[0;34m\u001b[0m\u001b[0;34m\u001b[0m\u001b[0m\n\u001b[0m\u001b[1;32m      2\u001b[0m \u001b[0;32mimport\u001b[0m \u001b[0mnumpy\u001b[0m \u001b[0;32mas\u001b[0m \u001b[0mnp\u001b[0m\u001b[0;34m\u001b[0m\u001b[0;34m\u001b[0m\u001b[0m\n\u001b[1;32m      3\u001b[0m \u001b[0;32mimport\u001b[0m \u001b[0mdatetime\u001b[0m\u001b[0;34m\u001b[0m\u001b[0;34m\u001b[0m\u001b[0m\n\u001b[1;32m      4\u001b[0m \u001b[0;34m\u001b[0m\u001b[0m\n\u001b[1;32m      5\u001b[0m \u001b[0;31m# Title\u001b[0m\u001b[0;34m\u001b[0m\u001b[0;34m\u001b[0m\u001b[0m\n",
            "\u001b[0;31mModuleNotFoundError\u001b[0m: No module named 'streamlit'",
            "",
            "\u001b[0;31m---------------------------------------------------------------------------\u001b[0;32m\nNOTE: If your import is failing due to a missing package, you can\nmanually install dependencies using either !pip or !apt.\n\nTo view examples of installing some common dependencies, click the\n\"Open Examples\" button below.\n\u001b[0;31m---------------------------------------------------------------------------\u001b[0m\n"
          ],
          "errorDetails": {
            "actions": [
              {
                "action": "open_url",
                "actionText": "Open Examples",
                "url": "/notebooks/snippets/importing_libraries.ipynb"
              }
            ]
          }
        }
      ],
      "source": [
        "# Title\n",
        "st.title(\"☀️ SAFE Urja - Smart Analytics For Efficient Urja\")\n",
        "st.subheader(\"AI-powered rooftop solar guidance for efficient energy use and storage\")\n",
        "\n",
        "# User input\n",
        "st.sidebar.header(\"User Input\")\n",
        "daily_usage = st.sidebar.number_input(\"Enter your daily electricity usage (kWh)\", min_value=1.0, max_value=100.0, value=10.0)\n",
        "battery_capacity = st.sidebar.number_input(\"Enter your battery storage capacity (kWh)\", min_value=1.0, max_value=50.0, value=5.0)\n",
        "location = st.sidebar.text_input(\"Enter your city/location\", \"Delhi\")\n",
        "\n",
        "# Mock AI solar generation prediction\n",
        "today = datetime.date.today()\n",
        "np.random.seed(today.day)\n",
        "predicted_generation = round(np.random.uniform(5, 15), 2)  # in kWh\n",
        "\n",
        "# Storage recommendation logic\n",
        "if predicted_generation >= daily_usage:\n",
        "    storage_needed = daily_usage * 0.3  # suggest 30% buffer\n",
        "else:\n",
        "    storage_needed = (daily_usage - predicted_generation) + (daily_usage * 0.3)\n",
        "\n",
        "# Display results\n",
        "st.write(f\"📍 Location: {location}\")\n",
        "st.write(f\"🔋 Battery Capacity: {battery_capacity} kWh\")\n",
        "st.write(f\"☀️ Predicted Solar Generation Today: **{predicted_generation} kWh**\")\n",
        "st.write(f\"⚡ Your Daily Usage: **{daily_usage} kWh**\")\n",
        "st.write(f\"💡 Recommended Extra Storage for Stormy/Cloudy Days: **{round(storage_needed, 2)} kWh**\")\n",
        "\n",
        "# Alert for insufficient storage\n",
        "if battery_capacity < storage_needed:\n",
        "    st.error(\"⚠️ Your current battery capacity may be insufficient for backup needs.\")\n",
        "else:\n",
        "    st.success(\"✅ Your battery storage is sufficient for today’s needs.\")\n",
        "\n",
        "# Future scope\n",
        "st.markdown(\"---\")\n",
        "st.markdown(\"### 🚀 Future Add-ons\")\n",
        "st.markdown(\"- AI model trained on real solar irradiance + weather data\")\n",
        "st.markdown(\"- GIS mapping for rooftop solar potential\")\n",
        "st.markdown(\"- Cost-saving and CO2 reduction dashboard\")\n"
      ]
    }
  ]
}